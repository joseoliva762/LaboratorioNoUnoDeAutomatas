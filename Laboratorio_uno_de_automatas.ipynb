{
 "cells": [
  {
   "cell_type": "markdown",
   "metadata": {},
   "source": [
    "# Laboratorio No. 1 de Automatas."
   ]
  },
  {
   "cell_type": "markdown",
   "metadata": {},
   "source": [
    "Librerias a utilizar"
   ]
  },
  {
   "cell_type": "code",
   "execution_count": 1,
   "metadata": {},
   "outputs": [],
   "source": [
    "import numpy as np\n",
    "import matplotlib.pyplot as plt\n",
    "import pandas as pd\n",
    "import tensorflow as tf\n",
    "from sklearn.model_selection import train_test_split as tts"
   ]
  },
  {
   "cell_type": "markdown",
   "metadata": {},
   "source": [
    "Funciones para cargar el data set"
   ]
  },
  {
   "cell_type": "code",
   "execution_count": 2,
   "metadata": {},
   "outputs": [],
   "source": [
    "def convert_dataset_from_xlsx_to_csv(ruta_xlsx, ruta):\n",
    "    _dataset_xlsx = pd.read_excel(ruta_xlsx)\n",
    "    _dataset_xlsx.to_csv(ruta, encoding='utf-8')\n",
    "    print('[OK]    From xlsx to csv.')\n",
    "    \n",
    "def get_dataset(ruta):\n",
    "    dataset = pd.read_csv(ruta, encoding='utf-8')\n",
    "    return dataset.replace(np.nan, '0')\n",
    "\n",
    "\n",
    "def data_to_norm(dataframe):\n",
    "    for dims in dataframe:\n",
    "        if dims == 'Cost':\n",
    "            break\n",
    "        else:\n",
    "            value_max = dataframe[dims].max()\n",
    "            value_min = dataframe[dims].min()\n",
    "            #print('{}>> Valor max: {}, Valor min: {}'.format(dims, value_max, value_min) )\n",
    "            dataframe[dims] = (dataframe[dims] - value_min)/(value_max - value_min)\n",
    "    return dataframe\n",
    "\n",
    "def get_characteristic(dataframe):\n",
    "    _trainig_data = dataframe.shape[0] * dataframe.shape[1]\n",
    "    x_features = dataframe[['CRIM', 'ZN', 'INDUS', 'CHAS', 'NOX', 'RM', 'AGE', 'DIS', 'RAD', 'TAX', 'PTRATIO', 'B', 'LSTAT' ]].dropna(axis=0, how='any')\n",
    "    y_labels = dataframe[['Cost']].dropna(axis=0, how='any')\n",
    "    return x_features,  y_labels"
   ]
  },
  {
   "cell_type": "markdown",
   "metadata": {},
   "source": [
    "Funcones para crear el modelo y Entrenarolo\n"
   ]
  },
  {
   "cell_type": "code",
   "execution_count": 3,
   "metadata": {},
   "outputs": [],
   "source": [
    "def get_hiperparameters(x_features_training):\n",
    "    _learning_rate = 0.52\n",
    "    _num_epochs = 1000\n",
    "    _display_step = 100\n",
    "    _rows = np.shape(x_features_training)[0]\n",
    "    _columns = np.shape(x_features_training)[1]\n",
    "    return _learning_rate, _num_epochs, _display_step, _rows, _columns\n",
    "\n",
    "def get_placeholders(rows, columns):\n",
    "    tf.reset_default_graph()\n",
    "    X = tf.placeholder(tf.float32, [rows, columns])\n",
    "    Y = tf.placeholder(tf.float32, [rows, 1])\n",
    "    return X, Y\n",
    "\n",
    "def get_variables(columns):\n",
    "    theta = tf.get_variable(\"theta\",[columns, 1])\n",
    "    theta_cero = tf.get_variable(\"theta0\",[1])\n",
    "    return theta, theta_cero\n",
    "\n",
    "def _h_func(X_features_ph, theta, theta_cero):\n",
    "    hipotesis = tf.add(tf.matmul(X_features_ph, theta), theta_cero)\n",
    "    print('[OK]    Hipotesis.')\n",
    "    return hipotesis\n",
    "\n",
    "def _J_func(y_labels_training, X_features_ph, theta, theta_cero):\n",
    "    J = tf.pow(_h_func(X_features_ph, theta, theta_cero) - y_labels_training,2)\n",
    "    print('[OK]    Loss Function.')\n",
    "    return J\n",
    "\n",
    "def get_mean_j(rows, y_labels_training, X_features_ph, theta, theta_cero):\n",
    "    mean_J = (1/(2*rows))*tf.reduce_sum(_J_func(y_labels_training, X_features_ph, theta, theta_cero))\n",
    "    print('[OK]    Mean of Loss Function.')\n",
    "    return mean_J\n",
    "    \n",
    "    \n",
    "def tftGDO(learning_rate, mean_J):\n",
    "    optimizer = tf.train.GradientDescentOptimizer(learning_rate=learning_rate).minimize(mean_J)\n",
    "    print('[OK]    Gradient Descent Optimizer.')\n",
    "    return optimizer"
   ]
  },
  {
   "cell_type": "markdown",
   "metadata": {},
   "source": [
    "Funciones para Graficacion"
   ]
  },
  {
   "cell_type": "code",
   "execution_count": 4,
   "metadata": {},
   "outputs": [],
   "source": [
    "def grafics(labelx, labely):\n",
    "    for dims in labelx:\n",
    "        if plt.scatter(labelx[dims], labely):\n",
    "            print('[OK]    Grafics from {}.'.format(dims))\n",
    "        else:\n",
    "            print('[FAIL]  Grafics from {}.'.format(dims))\n",
    "\n",
    "def grafics_with_plot(ep,train_cost):\n",
    "    plt.plot(ep,train_cost)\n",
    "    plt.show()"
   ]
  },
  {
   "cell_type": "markdown",
   "metadata": {},
   "source": [
    "Funciones para Test del modelo"
   ]
  },
  {
   "cell_type": "code",
   "execution_count": null,
   "metadata": {},
   "outputs": [],
   "source": []
  },
  {
   "cell_type": "markdown",
   "metadata": {},
   "source": [
    "## Main():"
   ]
  },
  {
   "cell_type": "code",
   "execution_count": 5,
   "metadata": {},
   "outputs": [
    {
     "name": "stdout",
     "output_type": "stream",
     "text": [
      "[OK]    From xlsx to csv.\n",
      "[OK]    Normalización del dataframe\r\n",
      "\n",
      "[OK]    Grafics from CRIM.\n",
      "[OK]    Grafics from ZN.\n",
      "[OK]    Grafics from INDUS.\n",
      "[OK]    Grafics from CHAS.\n",
      "[OK]    Grafics from NOX.\n",
      "[OK]    Grafics from RM.\n",
      "[OK]    Grafics from AGE.\n",
      "[OK]    Grafics from DIS.\n",
      "[OK]    Grafics from RAD.\n",
      "[OK]    Grafics from TAX.\n",
      "[OK]    Grafics from PTRATIO.\n",
      "[OK]    Grafics from B.\n",
      "[OK]    Grafics from LSTAT.\n"
     ]
    },
    {
     "name": "stderr",
     "output_type": "stream",
     "text": [
      "WARNING: Logging before flag parsing goes to stderr.\n",
      "W0908 18:27:33.244283  8584 deprecation.py:506] From C:\\Users\\joseo\\Anaconda3\\envs\\automatas\\lib\\site-packages\\tensorflow\\python\\ops\\init_ops.py:1251: calling VarianceScaling.__init__ (from tensorflow.python.ops.init_ops) with dtype is deprecated and will be removed in a future version.\n",
      "Instructions for updating:\n",
      "Call initializer instance with the dtype argument instead of passing it to the constructor\n",
      "W0908 18:27:33.338017  8584 deprecation.py:323] From C:\\Users\\joseo\\Anaconda3\\envs\\automatas\\lib\\site-packages\\tensorflow\\python\\ops\\math_grad.py:1205: add_dispatch_support.<locals>.wrapper (from tensorflow.python.ops.array_ops) is deprecated and will be removed in a future version.\n",
      "Instructions for updating:\n",
      "Use tf.where in 2.0, which has the same broadcast rule as np.where\n"
     ]
    },
    {
     "name": "stdout",
     "output_type": "stream",
     "text": [
      "[OK]    Hipotesis.\n",
      "[OK]    Loss Function.\n",
      "[OK]    Mean of Loss Function.\n",
      "[OK]    Gradient Descent Optimizer.\n",
      "\n",
      "\tStart Trainig...\n",
      "\n",
      "Epoch: 100 train_cost=11.6688\n",
      "Epoch: 200 train_cost=10.7218\n",
      "Epoch: 300 train_cost=10.4817\n",
      "Epoch: 400 train_cost=10.3646\n",
      "Epoch: 500 train_cost=10.2968\n",
      "Epoch: 600 train_cost=10.2548\n",
      "Epoch: 700 train_cost=10.2278\n",
      "Epoch: 800 train_cost=10.2100\n",
      "Epoch: 900 train_cost=10.1980\n",
      "Epoch: 1000 train_cost=10.1898\n",
      "Entrenamiento Finalizado\n"
     ]
    },
    {
     "data": {
      "image/png": "[encoded data removed]",
      "text/plain": [
       "<Figure size 432x288 with 1 Axes>"
      ]
     },
     "metadata": {
      "needs_background": "light"
     },
     "output_type": "display_data"
    }
   ],
   "source": [
    "def main(dataframe):\n",
    "    #print(dataframe)\n",
    "    x_features, y_labels = get_characteristic(dataframe)\n",
    "    grafics(x_features, y_labels)                            #Grafico las trece caracteristicas\n",
    "    \n",
    "    # Separo entre datos de entrenamiento y datos de test\n",
    "    x_features_training, x_features_test, y_labels_training, y_labels_test = tts(x_features, y_labels, test_size=0.2)\n",
    "    learning_rate, num_epochs, display_step, rows, columns = get_hiperparameters(x_features_training)\n",
    "    \n",
    "    #Creo mis placeholders para las features y caracteristica y mi variables.\n",
    "    X_features_ph, Y_labels_ph = get_placeholders(rows, columns)\n",
    "    theta, theta_cero = get_variables(columns)\n",
    "    \n",
    "    # Obtengo la media de mi funcion de costo \n",
    "    y_labels_training_tmp = tf.cast(y_labels_training, tf.float32)   #Recuerda que se te presento el error de floar64 proveniente del MatMul\n",
    "    mean_J = get_mean_j(rows, y_labels_training_tmp, X_features_ph, theta, theta_cero)\n",
    "    \n",
    "    # Optimizer\n",
    "    optimizer = tftGDO(learning_rate, mean_J)\n",
    "    \n",
    "    print('\\n\\tStart Trainig...\\r\\n')\n",
    "    train_cost = []\n",
    "    ep = []\n",
    "    with tf.name_scope(\"starting_tensorflow_session\"):\n",
    "        with tf.Session() as sess:\n",
    "            sess.run(tf.global_variables_initializer())\n",
    "            for epoch in range(num_epochs):\n",
    "                _, t_cost = sess.run([optimizer, mean_J], feed_dict={X_features_ph: x_features_training, Y_labels_ph: y_labels_training})\n",
    "                train_cost.append(t_cost)\n",
    "                ep.append(epoch)\n",
    "                if (epoch+1) % display_step == 0:\n",
    "                    print(\"Epoch: {}\".format(epoch + 1), \"train_cost={:0.4f}\".format(t_cost))\n",
    "            print('Entrenamiento Finalizado')\n",
    "            th = sess.run(theta)\n",
    "            th0 = sess.run(theta_cero)\n",
    "    grafics_with_plot(ep,train_cost)\n",
    "\n",
    "    \n",
    "if __name__=='__main__':\n",
    "    ruta_xlsx = '~/Documents/2019-2/Automatas/modelos/machine/lab_uno/dataset/boston.xlsx'\n",
    "    ruta = 'dataset/boston.csv'\n",
    "    convert_dataset_from_xlsx_to_csv(ruta_xlsx, ruta)\n",
    "    dataset = get_dataset(ruta)\n",
    "    #Creamos el dataframe\n",
    "    dataframe = data_to_norm(pd.DataFrame(dataset))   # Primero se convierte a un dataframe de pandas>> dataframe = pd.DataFrame(dataset)\n",
    "    print('[OK]    Normalización del dataframe\\r\\n')\n",
    "    main(dataframe)"
   ]
  },
  {
   "cell_type": "code",
   "execution_count": null,
   "metadata": {},
   "outputs": [],
   "source": []
  },
  {
   "cell_type": "code",
   "execution_count": null,
   "metadata": {},
   "outputs": [],
   "source": []
  },
  {
   "cell_type": "code",
   "execution_count": null,
   "metadata": {},
   "outputs": [],
   "source": []
  },
  {
   "cell_type": "code",
   "execution_count": null,
   "metadata": {},
   "outputs": [],
   "source": []
  },
  {
   "cell_type": "code",
   "execution_count": null,
   "metadata": {},
   "outputs": [],
   "source": []
  }
 ],
 "metadata": {
  "kernelspec": {
   "display_name": "Python 3",
   "language": "python",
   "name": "python3"
  },
  "language_info": {
   "codemirror_mode": {
    "name": "ipython",
    "version": 3
   },
   "file_extension": ".py",
   "mimetype": "text/x-python",
   "name": "python",
   "nbconvert_exporter": "python",
   "pygments_lexer": "ipython3",
   "version": "3.7.4"
  }
 },
 "nbformat": 4,
 "nbformat_minor": 2
}
